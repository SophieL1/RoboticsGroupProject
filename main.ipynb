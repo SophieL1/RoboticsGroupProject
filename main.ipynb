{
 "cells": [
  {
   "cell_type": "code",
   "execution_count": 1,
   "metadata": {},
   "outputs": [
    {
     "data": {
      "text/plain": [
       "Node 974350b8-c62b-4cd5-aab2-1fa81fa4e35f"
      ]
     },
     "execution_count": 1,
     "metadata": {},
     "output_type": "execute_result"
    }
   ],
   "source": [
    "########### IMPORT ###########\n",
    "from tdmclient import ClientAsync\n",
    "client = ClientAsync()\n",
    "node = await client.wait_for_node()\n",
    "await node.lock()\n"
   ]
  },
  {
   "cell_type": "code",
   "execution_count": 2,
   "metadata": {},
   "outputs": [],
   "source": [
    "from init import init\n",
    "from run import run\n",
    "from idle import idle\n",
    "\n",
    "import numpy as np\n",
    "import math\n",
    "\n",
    "import cv2\n",
    "from cv2 import aruco\n",
    "import numpy as np\n",
    "from matplotlib import pyplot as plt\n",
    "import time\n",
    "\n",
    "from init import init\n",
    "#fonction Sophie\n",
    "#from findPath import findPath\n",
    "\n",
    "#fonction Liandro\n",
    "from camera import live_cam"
   ]
  },
  {
   "cell_type": "markdown",
   "metadata": {},
   "source": [
    "# State Machine Explanation\n",
    "\n",
    "* IDLE -> INIT: Press on the middle button of the robot\n",
    "* INIT -> RUN: Automatic when init is done\n",
    "* INIT -> IDLE: Automatic if Camera is not detected\n",
    "* RUN -> IDLE: Automatic when the goal is reach"
   ]
  },
  {
   "cell_type": "code",
   "execution_count": 2,
   "metadata": {
    "tags": []
   },
   "outputs": [],
   "source": [
    "########### MAIN ###########\n",
    "def main():\n",
    "    x_init, expanded_obs, trajectory_points, cam, corner_coordinates = init()\n",
    "    print(\"INIT STATE: \", x_init)\n",
    "    print(\"x_init : \",x_init)\n",
    "    print(\"expanded_obs : \",expanded_obs)\n",
    "    print(\"trajectory_points : \",trajectory_points)\n",
    "    print(\"corner_coordinates : \",corner_coordinates)\n",
    "    if x_init is not None and np.any(x_init):\n",
    "        run(x_init, expanded_obs, trajectory_points, cam, corner_coordinates)\n",
    "        print(\"RUNNING\")\n",
    "    else:\n",
    "        print(\"ERROR: CAMERA IS NOT DETECTED\")\n",
    "    idle()"
   ]
  },
  {
   "cell_type": "markdown",
   "metadata": {},
   "source": [
    "# CODE"
   ]
  },
  {
   "cell_type": "code",
   "execution_count": 4,
   "metadata": {},
   "outputs": [
    {
     "name": "stdout",
     "output_type": "stream",
     "text": [
      "INIT STATE:  [[0]\n",
      " [0]\n",
      " [0]]\n",
      "run\n",
      "estimated pos =  [[ 0.        ]\n",
      " [ 0.        ]\n",
      " [30.33333333]]\n",
      "\t\t pos_goal:  ((1, 1), (2, 2), (3, 3), (4, 4), (5, 5), (6, 6), (7, 7))\n",
      "\t\t angle_goal1:  [45.0]\n",
      "\t\t angle_goal1:  [45.0, 45.0]\n",
      "\t\t angle_goal1:  [45.0, 45.0, 45.0]\n",
      "\t\t angle_goal1:  [45.0, 45.0, 45.0, 45.0]\n",
      "\t\t angle_goal1:  [45.0, 45.0, 45.0, 45.0, 45.0]\n",
      "\t\t angle_goal1:  [45.0, 45.0, 45.0, 45.0, 45.0, 45.0]\n",
      "pos =  [[ 0.        ]\n",
      " [ 0.        ]\n",
      " [30.33333333]]\n",
      "pos[0,0]=  0.0\n",
      "\t\t distance_goal:  [1.4142135623730951, 1.4142135623730951, 1.4142135623730951, 1.4142135623730951, 1.4142135623730951, 1.4142135623730951]\n",
      "\t\t angle_goal:  [45.0, 45.0, 45.0, 45.0, 45.0, 45.0]\n",
      "\t\t distance:  1.0\n",
      "\t\t angle:  30.333333333333332\n",
      "\t\t angle_rot:  14.666666666666668\n",
      "\t\t delta_angle_deg :  12.568106473837416\n",
      "estimated pos =  [[ 0.        ]\n",
      " [ 0.        ]\n",
      " [40.44444444]]\n",
      "\t\t pos_goal:  ((1, 1), (2, 2), (3, 3), (4, 4), (5, 5), (6, 6), (7, 7))\n",
      "\t\t angle_goal1:  [45.0]\n",
      "\t\t angle_goal1:  [45.0, 45.0]\n",
      "\t\t angle_goal1:  [45.0, 45.0, 45.0]\n",
      "\t\t angle_goal1:  [45.0, 45.0, 45.0, 45.0]\n",
      "\t\t angle_goal1:  [45.0, 45.0, 45.0, 45.0, 45.0]\n",
      "\t\t angle_goal1:  [45.0, 45.0, 45.0, 45.0, 45.0, 45.0]\n",
      "pos =  [[ 0.        ]\n",
      " [ 0.        ]\n",
      " [40.44444444]]\n",
      "pos[0,0]=  0.0\n",
      "\t\t distance_goal:  [1.4142135623730951, 1.4142135623730951, 1.4142135623730951, 1.4142135623730951, 1.4142135623730951, 1.4142135623730951]\n",
      "\t\t angle_goal:  [45.0, 45.0, 45.0, 45.0, 45.0, 45.0]\n",
      "\t\t distance:  1.0\n",
      "\t\t angle:  40.44444444444444\n",
      "\t\t angle_rot:  4.555555555555557\n",
      "\t\t distance fin:  1.0\n",
      "\t\t delta_angle_deg :  0.0\n",
      "estimated pos =  [[ 0.        ]\n",
      " [ 0.        ]\n",
      " [43.81481481]]\n",
      "\t\t pos_goal:  ((1, 1), (2, 2), (3, 3), (4, 4), (5, 5), (6, 6), (7, 7))\n",
      "\t\t angle_goal1:  [45.0]\n",
      "\t\t angle_goal1:  [45.0, 45.0]\n",
      "\t\t angle_goal1:  [45.0, 45.0, 45.0]\n",
      "\t\t angle_goal1:  [45.0, 45.0, 45.0, 45.0]\n",
      "\t\t angle_goal1:  [45.0, 45.0, 45.0, 45.0, 45.0]\n",
      "\t\t angle_goal1:  [45.0, 45.0, 45.0, 45.0, 45.0, 45.0]\n",
      "pos =  [[ 0.        ]\n",
      " [ 0.        ]\n",
      " [43.81481481]]\n",
      "pos[0,0]=  0.0\n",
      "\t\t distance_goal:  [1.4142135623730951, 1.4142135623730951, 1.4142135623730951, 1.4142135623730951, 1.4142135623730951, 1.4142135623730951]\n",
      "\t\t angle_goal:  [45.0, 45.0, 45.0, 45.0, 45.0, 45.0]\n",
      "\t\t distance:  2.0\n",
      "\t\t angle:  43.81481481481482\n",
      "\t\t angle_rot:  1.1851851851851833\n",
      "\t\t distance fin:  2.0\n",
      "\t\t delta_angle_deg :  0.0\n",
      "estimated pos =  [[ 0.       ]\n",
      " [ 0.       ]\n",
      " [44.9382716]]\n",
      "\t\t pos_goal:  ((1, 1), (2, 2), (3, 3), (4, 4), (5, 5), (6, 6), (7, 7))\n",
      "\t\t angle_goal1:  [45.0]\n",
      "\t\t angle_goal1:  [45.0, 45.0]\n",
      "\t\t angle_goal1:  [45.0, 45.0, 45.0]\n",
      "\t\t angle_goal1:  [45.0, 45.0, 45.0, 45.0]\n",
      "\t\t angle_goal1:  [45.0, 45.0, 45.0, 45.0, 45.0]\n",
      "\t\t angle_goal1:  [45.0, 45.0, 45.0, 45.0, 45.0, 45.0]\n",
      "pos =  [[ 0.       ]\n",
      " [ 0.       ]\n",
      " [44.9382716]]\n",
      "pos[0,0]=  0.0\n",
      "\t\t distance_goal:  [1.4142135623730951, 1.4142135623730951, 1.4142135623730951, 1.4142135623730951, 1.4142135623730951, 1.4142135623730951]\n",
      "\t\t angle_goal:  [45.0, 45.0, 45.0, 45.0, 45.0, 45.0]\n",
      "\t\t distance:  3.0\n",
      "\t\t angle:  44.93827160493827\n",
      "\t\t angle_rot:  0.06172839506172778\n",
      "\t\t distance fin:  3.0\n",
      "\t\t delta_angle_deg :  0.0\n",
      "estimated pos =  [[ 0.       ]\n",
      " [ 0.       ]\n",
      " [45.3127572]]\n",
      "\t\t pos_goal:  ((1, 1), (2, 2), (3, 3), (4, 4), (5, 5), (6, 6), (7, 7))\n",
      "\t\t angle_goal1:  [45.0]\n",
      "\t\t angle_goal1:  [45.0, 45.0]\n",
      "\t\t angle_goal1:  [45.0, 45.0, 45.0]\n",
      "\t\t angle_goal1:  [45.0, 45.0, 45.0, 45.0]\n",
      "\t\t angle_goal1:  [45.0, 45.0, 45.0, 45.0, 45.0]\n",
      "\t\t angle_goal1:  [45.0, 45.0, 45.0, 45.0, 45.0, 45.0]\n",
      "pos =  [[ 0.       ]\n",
      " [ 0.       ]\n",
      " [45.3127572]]\n",
      "pos[0,0]=  0.0\n",
      "\t\t distance_goal:  [1.4142135623730951, 1.4142135623730951, 1.4142135623730951, 1.4142135623730951, 1.4142135623730951, 1.4142135623730951]\n",
      "\t\t angle_goal:  [45.0, 45.0, 45.0, 45.0, 45.0, 45.0]\n",
      "\t\t distance:  4.0\n",
      "\t\t angle:  45.31275720164609\n",
      "\t\t angle_rot:  -0.3127572016460931\n",
      "\t\t distance fin:  4.0\n",
      "\t\t delta_angle_deg :  0.0\n",
      "estimated pos =  [[ 0.        ]\n",
      " [ 0.        ]\n",
      " [45.43758573]]\n",
      "\t\t pos_goal:  ((1, 1), (2, 2), (3, 3), (4, 4), (5, 5), (6, 6), (7, 7))\n",
      "\t\t angle_goal1:  [45.0]\n",
      "\t\t angle_goal1:  [45.0, 45.0]\n",
      "\t\t angle_goal1:  [45.0, 45.0, 45.0]\n",
      "\t\t angle_goal1:  [45.0, 45.0, 45.0, 45.0]\n",
      "\t\t angle_goal1:  [45.0, 45.0, 45.0, 45.0, 45.0]\n",
      "\t\t angle_goal1:  [45.0, 45.0, 45.0, 45.0, 45.0, 45.0]\n",
      "pos =  [[ 0.        ]\n",
      " [ 0.        ]\n",
      " [45.43758573]]\n",
      "pos[0,0]=  0.0\n",
      "\t\t distance_goal:  [1.4142135623730951, 1.4142135623730951, 1.4142135623730951, 1.4142135623730951, 1.4142135623730951, 1.4142135623730951]\n",
      "\t\t angle_goal:  [45.0, 45.0, 45.0, 45.0, 45.0, 45.0]\n",
      "\t\t distance:  5.0\n",
      "\t\t angle:  45.43758573388203\n",
      "\t\t angle_rot:  -0.43758573388203104\n",
      "\t\t distance fin:  5.0\n",
      "\t\t delta_angle_deg :  0.0\n",
      "estimated pos =  [[ 0.        ]\n",
      " [ 0.        ]\n",
      " [45.47919524]]\n",
      "\t\t pos_goal:  ((1, 1), (2, 2), (3, 3), (4, 4), (5, 5), (6, 6), (7, 7))\n",
      "\t\t angle_goal1:  [45.0]\n",
      "\t\t angle_goal1:  [45.0, 45.0]\n",
      "\t\t angle_goal1:  [45.0, 45.0, 45.0]\n",
      "\t\t angle_goal1:  [45.0, 45.0, 45.0, 45.0]\n",
      "\t\t angle_goal1:  [45.0, 45.0, 45.0, 45.0, 45.0]\n",
      "\t\t angle_goal1:  [45.0, 45.0, 45.0, 45.0, 45.0, 45.0]\n",
      "pos =  [[ 0.        ]\n",
      " [ 0.        ]\n",
      " [45.47919524]]\n",
      "pos[0,0]=  0.0\n",
      "\t\t distance_goal:  [1.4142135623730951, 1.4142135623730951, 1.4142135623730951, 1.4142135623730951, 1.4142135623730951, 1.4142135623730951]\n",
      "\t\t angle_goal:  [45.0, 45.0, 45.0, 45.0, 45.0, 45.0]\n",
      "\t\t distance:  6.0\n",
      "\t\t angle:  45.47919524462734\n",
      "\t\t angle_rot:  -0.4791952446273413\n",
      "\t\t distance fin:  6.0\n",
      "\t\t delta_angle_deg :  0.0\n",
      "estimated pos =  [[ 0.        ]\n",
      " [ 0.        ]\n",
      " [45.49306508]]\n",
      "\t\t pos_goal:  ((1, 1), (2, 2), (3, 3), (4, 4), (5, 5), (6, 6), (7, 7))\n",
      "\t\t angle_goal1:  [45.0]\n",
      "\t\t angle_goal1:  [45.0, 45.0]\n",
      "\t\t angle_goal1:  [45.0, 45.0, 45.0]\n",
      "\t\t angle_goal1:  [45.0, 45.0, 45.0, 45.0]\n",
      "\t\t angle_goal1:  [45.0, 45.0, 45.0, 45.0, 45.0]\n",
      "\t\t angle_goal1:  [45.0, 45.0, 45.0, 45.0, 45.0, 45.0]\n",
      "\t\t delta_angle_deg :  0.0\n",
      "#####END#####\n",
      "RUNNING\n",
      "idle\n"
     ]
    },
    {
     "name": "stderr",
     "output_type": "stream",
     "text": [
      "Exception in thread Thread-4:\n",
      "Traceback (most recent call last):\n",
      "  File \"/opt/anaconda3/lib/python3.8/threading.py\", line 932, in _bootstrap_inner\n",
      "    self.run()\n",
      "  File \"/opt/anaconda3/lib/python3.8/site-packages/tdmclient/tcp.py\", line 73, in run\n",
      "    packet = self.read_packet()\n",
      "  File \"/opt/anaconda3/lib/python3.8/site-packages/tdmclient/tcp.py\", line 66, in read_packet\n",
      "    raise error\n",
      "  File \"/opt/anaconda3/lib/python3.8/site-packages/tdmclient/tcp.py\", line 59, in read_packet\n",
      "    packet_len = self.read_uint32()\n",
      "  File \"/opt/anaconda3/lib/python3.8/site-packages/tdmclient/tcp.py\", line 46, in read_uint32\n",
      "    b = self.io.read(4)\n",
      "  File \"/opt/anaconda3/lib/python3.8/site-packages/tdmclient/tcp.py\", line 99, in read\n",
      "    return self.socket.recv(n)\n",
      "ConnectionResetError: [Errno 54] Connection reset by peer\n"
     ]
    }
   ],
   "source": [
    "await main()"
   ]
  },
  {
   "cell_type": "code",
   "execution_count": 7,
   "metadata": {},
   "outputs": [
    {
     "data": {
      "text/plain": [
       "{'error_code': 2}"
      ]
     },
     "execution_count": 7,
     "metadata": {},
     "output_type": "execute_result"
    }
   ],
   "source": [
    "#unlock the robot:\n",
    "await(node.unlock())"
   ]
  },
  {
   "cell_type": "code",
   "execution_count": null,
   "metadata": {},
   "outputs": [],
   "source": []
  }
 ],
 "metadata": {
  "kernelspec": {
   "display_name": "Python 3 (ipykernel)",
   "language": "python",
   "name": "python3"
  },
  "language_info": {
   "codemirror_mode": {
    "name": "ipython",
    "version": 3
   },
   "file_extension": ".py",
   "mimetype": "text/x-python",
   "name": "python",
   "nbconvert_exporter": "python",
   "pygments_lexer": "ipython3",
   "version": "3.9.18"
  }
 },
 "nbformat": 4,
 "nbformat_minor": 4
}
