{
 "cells": [
  {
   "cell_type": "code",
   "execution_count": 1,
   "metadata": {},
   "outputs": [],
   "source": [
    "########### IMPORT ###########\n",
    "from init import init\n",
    "from run import run\n",
    "from idle import idle\n",
    "\n",
    "import numpy as np\n",
    "import math"
   ]
  },
  {
   "cell_type": "markdown",
   "metadata": {},
   "source": [
    "# State Machine Explanation\n",
    "\n",
    "* IDLE -> INIT: Press on the middle button of the robot\n",
    "* INIT -> RUN: Automatic when init is done\n",
    "* INIT -> IDLE: Automatic if Camera is not detected\n",
    "* RUN -> IDLE: Automatic when the goal is reach"
   ]
  },
  {
   "cell_type": "code",
   "execution_count": 2,
   "metadata": {},
   "outputs": [],
   "source": [
    "########### MAIN ###########\n",
    "def main():\n",
    "    x_init, pos_corners, trajectory_points = init()\n",
    "    print(\"INIT STATE: \", x_init)\n",
    "    if(x_init != None):\n",
    "        run(x_init, pos_corners, trajectory_points)\n",
    "        print(\"RUNNING\")\n",
    "    else:\n",
    "        print(\"ERROR: CAMERA IS NOT DETECTED\")\n",
    "    idle()"
   ]
  },
  {
   "cell_type": "markdown",
   "metadata": {},
   "source": [
    "# CODE"
   ]
  },
  {
   "cell_type": "code",
   "execution_count": 3,
   "metadata": {},
   "outputs": [
    {
     "name": "stdout",
     "output_type": "stream",
     "text": [
      "INIT STATE:  (0, 0, 0)\n",
      "(0, 0, 0)\n",
      "run\n",
      "RUNNING\n",
      "idle\n"
     ]
    }
   ],
   "source": [
    "main()"
   ]
  },
  {
   "cell_type": "code",
   "execution_count": null,
   "metadata": {},
   "outputs": [],
   "source": []
  }
 ],
 "metadata": {
  "kernelspec": {
   "display_name": "Python 3",
   "language": "python",
   "name": "python3"
  },
  "language_info": {
   "codemirror_mode": {
    "name": "ipython",
    "version": 3
   },
   "file_extension": ".py",
   "mimetype": "text/x-python",
   "name": "python",
   "nbconvert_exporter": "python",
   "pygments_lexer": "ipython3",
   "version": "3.10.2"
  }
 },
 "nbformat": 4,
 "nbformat_minor": 2
}
