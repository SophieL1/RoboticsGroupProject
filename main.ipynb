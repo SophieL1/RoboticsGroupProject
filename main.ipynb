{
 "cells": [
  {
   "cell_type": "code",
   "execution_count": 1,
   "metadata": {},
   "outputs": [
    {
     "data": {
      "text/plain": [
       "Node 974350b8-c62b-4cd5-aab2-1fa81fa4e35f"
      ]
     },
     "execution_count": 1,
     "metadata": {},
     "output_type": "execute_result"
    }
   ],
   "source": [
    "########### IMPORT ###########\n",
    "from tdmclient import ClientAsync\n",
    "client = ClientAsync()\n",
    "node = await client.wait_for_node()\n",
    "await node.lock()\n"
   ]
  },
  {
   "cell_type": "code",
   "execution_count": 2,
   "metadata": {},
   "outputs": [],
   "source": [
    "from init import init\n",
    "from run import run\n",
    "from idle import idle\n",
    "\n",
    "import numpy as np\n",
    "import math\n",
    "\n",
    "import cv2\n",
    "from cv2 import aruco\n",
    "import numpy as np\n",
    "from matplotlib import pyplot as plt\n",
    "import time\n",
    "\n",
    "from init import init\n",
    "#fonction Sophie\n",
    "#from findPath import findPath\n",
    "\n",
    "#fonction Liandro\n",
    "from camera import live_cam"
   ]
  },
  {
   "cell_type": "markdown",
   "metadata": {},
   "source": [
    "# State Machine Explanation\n",
    "\n",
    "* IDLE -> INIT: Press on the middle button of the robot\n",
    "* INIT -> RUN: Automatic when init is done\n",
    "* INIT -> IDLE: Automatic if Camera is not detected\n",
    "* RUN -> IDLE: Automatic when the goal is reach"
   ]
  },
  {
   "cell_type": "code",
   "execution_count": 3,
   "metadata": {
    "tags": []
   },
   "outputs": [],
   "source": [
    "########### MAIN ###########\n",
    "async def main():\n",
    "    x_init, expanded_obs, trajectory_points, cam, corner_coordinates = init()\n",
    "    if x_init is not None and np.any(x_init):\n",
    "        await run(x_init, expanded_obs, trajectory_points, cam, corner_coordinates,node,client)\n",
    "    else:\n",
    "        print(\"ERROR: CAMERA IS NOT DETECTED\")\n",
    "    idle()"
   ]
  },
  {
   "cell_type": "markdown",
   "metadata": {},
   "source": [
    "# CODE"
   ]
  },
  {
   "cell_type": "code",
   "execution_count": null,
   "metadata": {},
   "outputs": [],
   "source": [
    "await main()"
   ]
  },
  {
   "cell_type": "code",
   "execution_count": null,
   "metadata": {},
   "outputs": [],
   "source": [
    "#unlock the robot:\n",
    "await(node.unlock())"
   ]
  },
  {
   "cell_type": "code",
   "execution_count": null,
   "metadata": {},
   "outputs": [],
   "source": []
  }
 ],
 "metadata": {
  "kernelspec": {
   "display_name": "Python 3",
   "language": "python",
   "name": "python3"
  },
  "language_info": {
   "codemirror_mode": {
    "name": "ipython",
    "version": 3
   },
   "file_extension": ".py",
   "mimetype": "text/x-python",
   "name": "python",
   "nbconvert_exporter": "python",
   "pygments_lexer": "ipython3",
   "version": "3.8.5"
  }
 },
 "nbformat": 4,
 "nbformat_minor": 4
}
