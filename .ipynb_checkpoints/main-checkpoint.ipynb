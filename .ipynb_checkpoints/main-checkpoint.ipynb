{
 "cells": [
  {
   "cell_type": "code",
   "execution_count": 1,
   "metadata": {},
<<<<<<< HEAD
   "outputs": [
    {
     "data": {
      "text/plain": [
       "Node 974350b8-c62b-4cd5-aab2-1fa81fa4e35f"
      ]
     },
     "execution_count": 1,
     "metadata": {},
     "output_type": "execute_result"
    }
   ],
   "source": [
    "########### IMPORT ###########\n",
    "from tdmclient import ClientAsync\n",
    "client = ClientAsync()\n",
    "node = await client.wait_for_node()\n",
    "await node.lock()\n"
   ]
  },
  {
   "cell_type": "code",
   "execution_count": 2,
   "metadata": {},
   "outputs": [],
   "source": [
=======
   "outputs": [],
   "source": [
    "########### IMPORT ###########\n",
    "from tdmclient import ClientAsync\n",
>>>>>>> 8420c76ec8dd7c87424b0a606e0d8f5f924c5c0a
    "from init import init\n",
    "from run import run\n",
    "from idle import idle\n",
    "\n",
    "import numpy as np\n",
    "import math"
   ]
  },
  {
   "cell_type": "markdown",
   "metadata": {},
   "source": [
    "# State Machine Explanation\n",
    "\n",
    "* IDLE -> INIT: Press on the middle button of the robot\n",
    "* INIT -> RUN: Automatic when init is done\n",
    "* INIT -> IDLE: Automatic if Camera is not detected\n",
    "* RUN -> IDLE: Automatic when the goal is reach"
   ]
  },
  {
   "cell_type": "code",
<<<<<<< HEAD
   "execution_count": 3,
=======
   "execution_count": 2,
>>>>>>> 8420c76ec8dd7c87424b0a606e0d8f5f924c5c0a
   "metadata": {},
   "outputs": [],
   "source": [
    "########### MAIN ###########\n",
<<<<<<< HEAD
    "async def main():\n",
    "    x_init, pos_corners, trajectory_points = init()\n",
    "    print(\"INIT STATE: \", x_init)\n",
    "    if True:\n",
=======
    "def main():\n",
    "    client = ClientAsync()\n",
    "    node = await client.wait_for_node()\n",
    "    await node.lock()\n",
    "    x_init, pos_corners, trajectory_points = init()\n",
    "    print(\"INIT STATE: \", x_init)\n",
    "    if(x_init != None):\n",
>>>>>>> 8420c76ec8dd7c87424b0a606e0d8f5f924c5c0a
    "        await run(x_init, pos_corners, trajectory_points,node,client)\n",
    "        print(\"RUNNING\")\n",
    "    else:\n",
    "        print(\"ERROR: CAMERA IS NOT DETECTED\")\n",
    "    idle()"
   ]
  },
  {
   "cell_type": "markdown",
   "metadata": {},
   "source": [
    "# CODE"
   ]
  },
  {
   "cell_type": "code",
<<<<<<< HEAD
   "execution_count": 4,
=======
   "execution_count": 3,
>>>>>>> 8420c76ec8dd7c87424b0a606e0d8f5f924c5c0a
   "metadata": {},
   "outputs": [
    {
     "name": "stdout",
     "output_type": "stream",
     "text": [
<<<<<<< HEAD
      "INIT STATE:  [[0]\n",
      " [0]\n",
      " [0]]\n",
      "run\n",
      "estimated pos =  [[ 0.        ]\n",
      " [ 0.        ]\n",
      " [30.33333333]]\n",
      "\t\t pos_goal:  ((1, 1), (2, 2), (3, 3), (4, 4), (5, 5), (6, 6), (7, 7))\n",
      "\t\t angle_goal1:  [45.0]\n",
      "\t\t angle_goal1:  [45.0, 45.0]\n",
      "\t\t angle_goal1:  [45.0, 45.0, 45.0]\n",
      "\t\t angle_goal1:  [45.0, 45.0, 45.0, 45.0]\n",
      "\t\t angle_goal1:  [45.0, 45.0, 45.0, 45.0, 45.0]\n",
      "\t\t angle_goal1:  [45.0, 45.0, 45.0, 45.0, 45.0, 45.0]\n",
      "pos =  [[ 0.        ]\n",
      " [ 0.        ]\n",
      " [30.33333333]]\n",
      "pos[0,0]=  0.0\n",
      "\t\t distance_goal:  [1.4142135623730951, 1.4142135623730951, 1.4142135623730951, 1.4142135623730951, 1.4142135623730951, 1.4142135623730951]\n",
      "\t\t angle_goal:  [45.0, 45.0, 45.0, 45.0, 45.0, 45.0]\n",
      "\t\t distance:  1.0\n",
      "\t\t angle:  30.333333333333332\n",
      "\t\t angle_rot:  14.666666666666668\n",
      "\t\t delta_angle_deg :  12.568106473837416\n",
      "estimated pos =  [[ 0.        ]\n",
      " [ 0.        ]\n",
      " [40.44444444]]\n",
      "\t\t pos_goal:  ((1, 1), (2, 2), (3, 3), (4, 4), (5, 5), (6, 6), (7, 7))\n",
      "\t\t angle_goal1:  [45.0]\n",
      "\t\t angle_goal1:  [45.0, 45.0]\n",
      "\t\t angle_goal1:  [45.0, 45.0, 45.0]\n",
      "\t\t angle_goal1:  [45.0, 45.0, 45.0, 45.0]\n",
      "\t\t angle_goal1:  [45.0, 45.0, 45.0, 45.0, 45.0]\n",
      "\t\t angle_goal1:  [45.0, 45.0, 45.0, 45.0, 45.0, 45.0]\n",
      "pos =  [[ 0.        ]\n",
      " [ 0.        ]\n",
      " [40.44444444]]\n",
      "pos[0,0]=  0.0\n",
      "\t\t distance_goal:  [1.4142135623730951, 1.4142135623730951, 1.4142135623730951, 1.4142135623730951, 1.4142135623730951, 1.4142135623730951]\n",
      "\t\t angle_goal:  [45.0, 45.0, 45.0, 45.0, 45.0, 45.0]\n",
      "\t\t distance:  1.0\n",
      "\t\t angle:  40.44444444444444\n",
      "\t\t angle_rot:  4.555555555555557\n",
      "\t\t distance fin:  1.0\n",
      "\t\t delta_angle_deg :  0.0\n",
      "estimated pos =  [[ 0.        ]\n",
      " [ 0.        ]\n",
      " [43.81481481]]\n",
      "\t\t pos_goal:  ((1, 1), (2, 2), (3, 3), (4, 4), (5, 5), (6, 6), (7, 7))\n",
      "\t\t angle_goal1:  [45.0]\n",
      "\t\t angle_goal1:  [45.0, 45.0]\n",
      "\t\t angle_goal1:  [45.0, 45.0, 45.0]\n",
      "\t\t angle_goal1:  [45.0, 45.0, 45.0, 45.0]\n",
      "\t\t angle_goal1:  [45.0, 45.0, 45.0, 45.0, 45.0]\n",
      "\t\t angle_goal1:  [45.0, 45.0, 45.0, 45.0, 45.0, 45.0]\n",
      "pos =  [[ 0.        ]\n",
      " [ 0.        ]\n",
      " [43.81481481]]\n",
      "pos[0,0]=  0.0\n",
      "\t\t distance_goal:  [1.4142135623730951, 1.4142135623730951, 1.4142135623730951, 1.4142135623730951, 1.4142135623730951, 1.4142135623730951]\n",
      "\t\t angle_goal:  [45.0, 45.0, 45.0, 45.0, 45.0, 45.0]\n",
      "\t\t distance:  2.0\n",
      "\t\t angle:  43.81481481481482\n",
      "\t\t angle_rot:  1.1851851851851833\n",
      "\t\t distance fin:  2.0\n",
      "\t\t delta_angle_deg :  0.0\n",
      "estimated pos =  [[ 0.       ]\n",
      " [ 0.       ]\n",
      " [44.9382716]]\n",
      "\t\t pos_goal:  ((1, 1), (2, 2), (3, 3), (4, 4), (5, 5), (6, 6), (7, 7))\n",
      "\t\t angle_goal1:  [45.0]\n",
      "\t\t angle_goal1:  [45.0, 45.0]\n",
      "\t\t angle_goal1:  [45.0, 45.0, 45.0]\n",
      "\t\t angle_goal1:  [45.0, 45.0, 45.0, 45.0]\n",
      "\t\t angle_goal1:  [45.0, 45.0, 45.0, 45.0, 45.0]\n",
      "\t\t angle_goal1:  [45.0, 45.0, 45.0, 45.0, 45.0, 45.0]\n",
      "pos =  [[ 0.       ]\n",
      " [ 0.       ]\n",
      " [44.9382716]]\n",
      "pos[0,0]=  0.0\n",
      "\t\t distance_goal:  [1.4142135623730951, 1.4142135623730951, 1.4142135623730951, 1.4142135623730951, 1.4142135623730951, 1.4142135623730951]\n",
      "\t\t angle_goal:  [45.0, 45.0, 45.0, 45.0, 45.0, 45.0]\n",
      "\t\t distance:  3.0\n",
      "\t\t angle:  44.93827160493827\n",
      "\t\t angle_rot:  0.06172839506172778\n",
      "\t\t distance fin:  3.0\n",
      "\t\t delta_angle_deg :  0.0\n",
      "estimated pos =  [[ 0.       ]\n",
      " [ 0.       ]\n",
      " [45.3127572]]\n",
      "\t\t pos_goal:  ((1, 1), (2, 2), (3, 3), (4, 4), (5, 5), (6, 6), (7, 7))\n",
      "\t\t angle_goal1:  [45.0]\n",
      "\t\t angle_goal1:  [45.0, 45.0]\n",
      "\t\t angle_goal1:  [45.0, 45.0, 45.0]\n",
      "\t\t angle_goal1:  [45.0, 45.0, 45.0, 45.0]\n",
      "\t\t angle_goal1:  [45.0, 45.0, 45.0, 45.0, 45.0]\n",
      "\t\t angle_goal1:  [45.0, 45.0, 45.0, 45.0, 45.0, 45.0]\n",
      "pos =  [[ 0.       ]\n",
      " [ 0.       ]\n",
      " [45.3127572]]\n",
      "pos[0,0]=  0.0\n",
      "\t\t distance_goal:  [1.4142135623730951, 1.4142135623730951, 1.4142135623730951, 1.4142135623730951, 1.4142135623730951, 1.4142135623730951]\n",
      "\t\t angle_goal:  [45.0, 45.0, 45.0, 45.0, 45.0, 45.0]\n",
      "\t\t distance:  4.0\n",
      "\t\t angle:  45.31275720164609\n",
      "\t\t angle_rot:  -0.3127572016460931\n",
      "\t\t distance fin:  4.0\n",
      "\t\t delta_angle_deg :  0.0\n",
      "estimated pos =  [[ 0.        ]\n",
      " [ 0.        ]\n",
      " [45.43758573]]\n",
      "\t\t pos_goal:  ((1, 1), (2, 2), (3, 3), (4, 4), (5, 5), (6, 6), (7, 7))\n",
      "\t\t angle_goal1:  [45.0]\n",
      "\t\t angle_goal1:  [45.0, 45.0]\n",
      "\t\t angle_goal1:  [45.0, 45.0, 45.0]\n",
      "\t\t angle_goal1:  [45.0, 45.0, 45.0, 45.0]\n",
      "\t\t angle_goal1:  [45.0, 45.0, 45.0, 45.0, 45.0]\n",
      "\t\t angle_goal1:  [45.0, 45.0, 45.0, 45.0, 45.0, 45.0]\n",
      "pos =  [[ 0.        ]\n",
      " [ 0.        ]\n",
      " [45.43758573]]\n",
      "pos[0,0]=  0.0\n",
      "\t\t distance_goal:  [1.4142135623730951, 1.4142135623730951, 1.4142135623730951, 1.4142135623730951, 1.4142135623730951, 1.4142135623730951]\n",
      "\t\t angle_goal:  [45.0, 45.0, 45.0, 45.0, 45.0, 45.0]\n",
      "\t\t distance:  5.0\n",
      "\t\t angle:  45.43758573388203\n",
      "\t\t angle_rot:  -0.43758573388203104\n",
      "\t\t distance fin:  5.0\n",
      "\t\t delta_angle_deg :  0.0\n",
      "estimated pos =  [[ 0.        ]\n",
      " [ 0.        ]\n",
      " [45.47919524]]\n",
      "\t\t pos_goal:  ((1, 1), (2, 2), (3, 3), (4, 4), (5, 5), (6, 6), (7, 7))\n",
      "\t\t angle_goal1:  [45.0]\n",
      "\t\t angle_goal1:  [45.0, 45.0]\n",
      "\t\t angle_goal1:  [45.0, 45.0, 45.0]\n",
      "\t\t angle_goal1:  [45.0, 45.0, 45.0, 45.0]\n",
      "\t\t angle_goal1:  [45.0, 45.0, 45.0, 45.0, 45.0]\n",
      "\t\t angle_goal1:  [45.0, 45.0, 45.0, 45.0, 45.0, 45.0]\n",
      "pos =  [[ 0.        ]\n",
      " [ 0.        ]\n",
      " [45.47919524]]\n",
      "pos[0,0]=  0.0\n",
      "\t\t distance_goal:  [1.4142135623730951, 1.4142135623730951, 1.4142135623730951, 1.4142135623730951, 1.4142135623730951, 1.4142135623730951]\n",
      "\t\t angle_goal:  [45.0, 45.0, 45.0, 45.0, 45.0, 45.0]\n",
      "\t\t distance:  6.0\n",
      "\t\t angle:  45.47919524462734\n",
      "\t\t angle_rot:  -0.4791952446273413\n",
      "\t\t distance fin:  6.0\n",
      "\t\t delta_angle_deg :  0.0\n",
      "estimated pos =  [[ 0.        ]\n",
      " [ 0.        ]\n",
      " [45.49306508]]\n",
      "\t\t pos_goal:  ((1, 1), (2, 2), (3, 3), (4, 4), (5, 5), (6, 6), (7, 7))\n",
      "\t\t angle_goal1:  [45.0]\n",
      "\t\t angle_goal1:  [45.0, 45.0]\n",
      "\t\t angle_goal1:  [45.0, 45.0, 45.0]\n",
      "\t\t angle_goal1:  [45.0, 45.0, 45.0, 45.0]\n",
      "\t\t angle_goal1:  [45.0, 45.0, 45.0, 45.0, 45.0]\n",
      "\t\t angle_goal1:  [45.0, 45.0, 45.0, 45.0, 45.0, 45.0]\n",
      "\t\t delta_angle_deg :  0.0\n",
      "#####END#####\n",
      "RUNNING\n",
      "idle\n"
=======
      "run\n",
      "[[0], [0], [45]]\n"
     ]
    },
    {
     "ename": "TypeError",
     "evalue": "must be real number, not list",
     "output_type": "error",
     "traceback": [
      "\u001b[0;31m---------------------------------------------------------------------------\u001b[0m",
      "\u001b[0;31mTypeError\u001b[0m                                 Traceback (most recent call last)",
      "\u001b[0;32m<ipython-input-3-dbeb930147c6>\u001b[0m in \u001b[0;36m<module>\u001b[0;34m\u001b[0m\n\u001b[1;32m      4\u001b[0m \u001b[0;32mawait\u001b[0m \u001b[0mnode\u001b[0m\u001b[0;34m.\u001b[0m\u001b[0mlock\u001b[0m\u001b[0;34m(\u001b[0m\u001b[0;34m)\u001b[0m\u001b[0;34m\u001b[0m\u001b[0;34m\u001b[0m\u001b[0m\n\u001b[1;32m      5\u001b[0m \u001b[0mx_init\u001b[0m\u001b[0;34m=\u001b[0m\u001b[0;34m[\u001b[0m\u001b[0;34m[\u001b[0m\u001b[0;36m0\u001b[0m\u001b[0;34m]\u001b[0m\u001b[0;34m,\u001b[0m\u001b[0;34m[\u001b[0m\u001b[0;36m0\u001b[0m\u001b[0;34m]\u001b[0m\u001b[0;34m,\u001b[0m\u001b[0;34m[\u001b[0m\u001b[0;36m45\u001b[0m\u001b[0;34m]\u001b[0m\u001b[0;34m]\u001b[0m\u001b[0;34m\u001b[0m\u001b[0;34m\u001b[0m\u001b[0m\n\u001b[0;32m----> 6\u001b[0;31m \u001b[0;32mawait\u001b[0m \u001b[0mrun\u001b[0m\u001b[0;34m(\u001b[0m\u001b[0mx_init\u001b[0m\u001b[0;34m,\u001b[0m \u001b[0;36m0\u001b[0m\u001b[0;34m,\u001b[0m \u001b[0;36m0\u001b[0m\u001b[0;34m,\u001b[0m\u001b[0mnode\u001b[0m\u001b[0;34m,\u001b[0m \u001b[0mclient\u001b[0m\u001b[0;34m)\u001b[0m\u001b[0;34m\u001b[0m\u001b[0;34m\u001b[0m\u001b[0m\n\u001b[0m",
      "\u001b[0;32m~/Desktop/exos_mobile_robotics/Project_kalman_filter/run.py\u001b[0m in \u001b[0;36mrun\u001b[0;34m(x_init, goal_pos, pos_init, node, client)\u001b[0m\n\u001b[1;32m     19\u001b[0m         \u001b[0mraw_wheel_measurement\u001b[0m \u001b[0;34m=\u001b[0m \u001b[0;34m[\u001b[0m\u001b[0;34m[\u001b[0m\u001b[0mdelta_distance\u001b[0m\u001b[0;34m]\u001b[0m\u001b[0;34m,\u001b[0m\u001b[0;34m[\u001b[0m\u001b[0mdelta_angle\u001b[0m\u001b[0;34m]\u001b[0m\u001b[0;34m]\u001b[0m\u001b[0;34m\u001b[0m\u001b[0;34m\u001b[0m\u001b[0m\n\u001b[1;32m     20\u001b[0m         \u001b[0mraw_camera_measurement\u001b[0m \u001b[0;34m=\u001b[0m \u001b[0mnp\u001b[0m\u001b[0;34m.\u001b[0m\u001b[0marray\u001b[0m\u001b[0;34m(\u001b[0m\u001b[0;34m[\u001b[0m\u001b[0;34m[\u001b[0m\u001b[0;36m0\u001b[0m\u001b[0;34m]\u001b[0m\u001b[0;34m,\u001b[0m\u001b[0;34m[\u001b[0m\u001b[0;36m0\u001b[0m\u001b[0;34m]\u001b[0m\u001b[0;34m,\u001b[0m\u001b[0;34m[\u001b[0m\u001b[0;36m45\u001b[0m\u001b[0;34m]\u001b[0m\u001b[0;34m]\u001b[0m\u001b[0;34m)\u001b[0m \u001b[0;31m#### A changer\u001b[0m\u001b[0;34m\u001b[0m\u001b[0;34m\u001b[0m\u001b[0m\n\u001b[0;32m---> 21\u001b[0;31m         \u001b[0mestimated_pos\u001b[0m \u001b[0;34m=\u001b[0m \u001b[0mkalman\u001b[0m\u001b[0;34m(\u001b[0m\u001b[0mraw_wheel_measurement\u001b[0m\u001b[0;34m,\u001b[0m \u001b[0mraw_camera_measurement\u001b[0m\u001b[0;34m,\u001b[0m \u001b[0mestimated_pos\u001b[0m\u001b[0;34m)\u001b[0m\u001b[0;34m\u001b[0m\u001b[0;34m\u001b[0m\u001b[0m\n\u001b[0m\u001b[1;32m     22\u001b[0m         \u001b[0;32mawait\u001b[0m \u001b[0mnode\u001b[0m\u001b[0;34m.\u001b[0m\u001b[0mwait_for_variables\u001b[0m\u001b[0;34m(\u001b[0m\u001b[0;34m{\u001b[0m\u001b[0;34m\"prox.horizontal\"\u001b[0m\u001b[0;34m}\u001b[0m\u001b[0;34m)\u001b[0m\u001b[0;34m\u001b[0m\u001b[0;34m\u001b[0m\u001b[0m\n\u001b[1;32m     23\u001b[0m         \u001b[0mprox_horizontal\u001b[0m \u001b[0;34m=\u001b[0m \u001b[0mnode\u001b[0m\u001b[0;34m[\u001b[0m\u001b[0;34m'prox.horizontal'\u001b[0m\u001b[0;34m]\u001b[0m\u001b[0;34m\u001b[0m\u001b[0;34m\u001b[0m\u001b[0m\n",
      "\u001b[0;32m~/Desktop/exos_mobile_robotics/Project_kalman_filter/KF.py\u001b[0m in \u001b[0;36mkalman\u001b[0;34m(raw_wheel_measurement, raw_camera_measurement, estimated_pos)\u001b[0m\n\u001b[1;32m     19\u001b[0m \u001b[0;34m\u001b[0m\u001b[0m\n\u001b[1;32m     20\u001b[0m     \u001b[0mu\u001b[0m \u001b[0;34m=\u001b[0m \u001b[0mraw_wheel_measurement\u001b[0m\u001b[0;34m\u001b[0m\u001b[0;34m\u001b[0m\u001b[0m\n\u001b[0;32m---> 21\u001b[0;31m     \u001b[0mx_hat\u001b[0m\u001b[0;34m,\u001b[0m \u001b[0mP_hat\u001b[0m \u001b[0;34m=\u001b[0m \u001b[0mkalman_predict\u001b[0m\u001b[0;34m(\u001b[0m\u001b[0mx\u001b[0m\u001b[0;34m,\u001b[0m \u001b[0mu\u001b[0m\u001b[0;34m)\u001b[0m\u001b[0;34m\u001b[0m\u001b[0;34m\u001b[0m\u001b[0m\n\u001b[0m\u001b[1;32m     22\u001b[0m     \u001b[0mx_hat\u001b[0m \u001b[0;34m=\u001b[0m \u001b[0mkalman_update\u001b[0m\u001b[0;34m(\u001b[0m\u001b[0mx_hat\u001b[0m\u001b[0;34m,\u001b[0m \u001b[0mP_hat\u001b[0m\u001b[0;34m,\u001b[0m \u001b[0mraw_camera_measurement\u001b[0m\u001b[0;34m)\u001b[0m\u001b[0;34m\u001b[0m\u001b[0;34m\u001b[0m\u001b[0m\n\u001b[1;32m     23\u001b[0m     \u001b[0;32mreturn\u001b[0m \u001b[0mx_hat\u001b[0m\u001b[0;34m\u001b[0m\u001b[0;34m\u001b[0m\u001b[0m\n",
      "\u001b[0;32m~/Desktop/exos_mobile_robotics/Project_kalman_filter/KF.py\u001b[0m in \u001b[0;36mkalman_predict\u001b[0;34m(x, u)\u001b[0m\n\u001b[1;32m     43\u001b[0m \u001b[0;34m\u001b[0m\u001b[0m\n\u001b[1;32m     44\u001b[0m \u001b[0;32mdef\u001b[0m \u001b[0mkalman_predict\u001b[0m\u001b[0;34m(\u001b[0m\u001b[0mx\u001b[0m\u001b[0;34m,\u001b[0m \u001b[0mu\u001b[0m\u001b[0;34m)\u001b[0m\u001b[0;34m:\u001b[0m\u001b[0;34m\u001b[0m\u001b[0;34m\u001b[0m\u001b[0m\n\u001b[0;32m---> 45\u001b[0;31m     \u001b[0mB\u001b[0m \u001b[0;34m=\u001b[0m \u001b[0mB_kalman\u001b[0m\u001b[0;34m(\u001b[0m\u001b[0mx\u001b[0m\u001b[0;34m)\u001b[0m\u001b[0;34m\u001b[0m\u001b[0;34m\u001b[0m\u001b[0m\n\u001b[0m\u001b[1;32m     46\u001b[0m \u001b[0;34m\u001b[0m\u001b[0m\n\u001b[1;32m     47\u001b[0m     \u001b[0mx_hat\u001b[0m \u001b[0;34m=\u001b[0m \u001b[0mF\u001b[0m\u001b[0;34m.\u001b[0m\u001b[0mdot\u001b[0m\u001b[0;34m(\u001b[0m\u001b[0mx\u001b[0m\u001b[0;34m)\u001b[0m \u001b[0;34m+\u001b[0m \u001b[0mB\u001b[0m\u001b[0;34m.\u001b[0m\u001b[0mdot\u001b[0m\u001b[0;34m(\u001b[0m\u001b[0mu\u001b[0m\u001b[0;34m)\u001b[0m\u001b[0;34m\u001b[0m\u001b[0;34m\u001b[0m\u001b[0m\n",
      "\u001b[0;32m~/Desktop/exos_mobile_robotics/Project_kalman_filter/KF.py\u001b[0m in \u001b[0;36mB_kalman\u001b[0;34m(x)\u001b[0m\n\u001b[1;32m     39\u001b[0m \u001b[0;34m\u001b[0m\u001b[0m\n\u001b[1;32m     40\u001b[0m \u001b[0;32mdef\u001b[0m \u001b[0mB_kalman\u001b[0m\u001b[0;34m(\u001b[0m\u001b[0mx\u001b[0m\u001b[0;34m)\u001b[0m\u001b[0;34m:\u001b[0m\u001b[0;34m\u001b[0m\u001b[0;34m\u001b[0m\u001b[0m\n\u001b[0;32m---> 41\u001b[0;31m     \u001b[0mB\u001b[0m \u001b[0;34m=\u001b[0m \u001b[0mnp\u001b[0m\u001b[0;34m.\u001b[0m\u001b[0marray\u001b[0m\u001b[0;34m(\u001b[0m\u001b[0;34m[\u001b[0m\u001b[0;34m[\u001b[0m\u001b[0mmath\u001b[0m\u001b[0;34m.\u001b[0m\u001b[0msin\u001b[0m\u001b[0;34m(\u001b[0m\u001b[0mmath\u001b[0m\u001b[0;34m.\u001b[0m\u001b[0mradians\u001b[0m\u001b[0;34m(\u001b[0m\u001b[0mx\u001b[0m\u001b[0;34m[\u001b[0m\u001b[0;36m2\u001b[0m\u001b[0;34m]\u001b[0m\u001b[0;34m)\u001b[0m\u001b[0;34m)\u001b[0m\u001b[0;34m,\u001b[0m \u001b[0;36m0\u001b[0m\u001b[0;34m]\u001b[0m\u001b[0;34m,\u001b[0m \u001b[0;34m[\u001b[0m\u001b[0mmath\u001b[0m\u001b[0;34m.\u001b[0m\u001b[0mcos\u001b[0m\u001b[0;34m(\u001b[0m\u001b[0mmath\u001b[0m\u001b[0;34m.\u001b[0m\u001b[0mradians\u001b[0m\u001b[0;34m(\u001b[0m\u001b[0mx\u001b[0m\u001b[0;34m[\u001b[0m\u001b[0;36m2\u001b[0m\u001b[0;34m]\u001b[0m\u001b[0;34m)\u001b[0m\u001b[0;34m)\u001b[0m\u001b[0;34m,\u001b[0m \u001b[0;36m0\u001b[0m\u001b[0;34m]\u001b[0m\u001b[0;34m,\u001b[0m \u001b[0;34m[\u001b[0m\u001b[0;36m0\u001b[0m\u001b[0;34m,\u001b[0m \u001b[0;36m1\u001b[0m\u001b[0;34m]\u001b[0m\u001b[0;34m]\u001b[0m\u001b[0;34m)\u001b[0m            \u001b[0;31m# Define the control matrix (B)\u001b[0m\u001b[0;34m\u001b[0m\u001b[0;34m\u001b[0m\u001b[0m\n\u001b[0m\u001b[1;32m     42\u001b[0m     \u001b[0;32mreturn\u001b[0m \u001b[0mB\u001b[0m\u001b[0;34m\u001b[0m\u001b[0;34m\u001b[0m\u001b[0m\n\u001b[1;32m     43\u001b[0m \u001b[0;34m\u001b[0m\u001b[0m\n",
      "\u001b[0;31mTypeError\u001b[0m: must be real number, not list"
>>>>>>> 8420c76ec8dd7c87424b0a606e0d8f5f924c5c0a
     ]
    }
   ],
   "source": [
<<<<<<< HEAD
    "await main()"
=======
    "#TESTS\n",
    "client = ClientAsync()\n",
    "node = await client.wait_for_node()\n",
    "await node.lock()\n",
    "x_init=[[0],[0],[45]]\n",
    "await run(x_init, 0, 0,node, client)"
>>>>>>> 8420c76ec8dd7c87424b0a606e0d8f5f924c5c0a
   ]
  },
  {
   "cell_type": "code",
<<<<<<< HEAD
   "execution_count": 7,
   "metadata": {},
   "outputs": [
    {
     "data": {
      "text/plain": [
       "{'error_code': 2}"
      ]
     },
     "execution_count": 7,
     "metadata": {},
     "output_type": "execute_result"
    }
   ],
   "source": [
=======
   "execution_count": 3,
   "metadata": {},
   "outputs": [
    {
     "name": "stdout",
     "output_type": "stream",
     "text": [
      "INIT STATE:  (0, 0, 0)\n",
      "(0, 0, 0)\n",
      "run\n",
      "RUNNING\n",
      "idle\n"
     ]
    }
   ],
   "source": [
    "main()"
   ]
  },
  {
   "cell_type": "code",
   "execution_count": 4,
   "metadata": {},
   "outputs": [],
   "source": [
>>>>>>> 8420c76ec8dd7c87424b0a606e0d8f5f924c5c0a
    "#unlock the robot:\n",
    "await(node.unlock())"
   ]
  },
  {
   "cell_type": "code",
   "execution_count": null,
   "metadata": {},
   "outputs": [],
   "source": []
  }
 ],
 "metadata": {
  "kernelspec": {
<<<<<<< HEAD
   "display_name": "Python 3",
=======
   "display_name": "Python 3 (ipykernel)",
>>>>>>> 8420c76ec8dd7c87424b0a606e0d8f5f924c5c0a
   "language": "python",
   "name": "python3"
  },
  "language_info": {
   "codemirror_mode": {
    "name": "ipython",
    "version": 3
   },
   "file_extension": ".py",
   "mimetype": "text/x-python",
   "name": "python",
   "nbconvert_exporter": "python",
   "pygments_lexer": "ipython3",
<<<<<<< HEAD
   "version": "3.8.5"
=======
   "version": "3.9.18"
>>>>>>> 8420c76ec8dd7c87424b0a606e0d8f5f924c5c0a
  }
 },
 "nbformat": 4,
 "nbformat_minor": 2
}
