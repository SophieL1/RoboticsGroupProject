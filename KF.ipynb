{
 "cells": [
  {
   "cell_type": "markdown",
   "metadata": {},
   "source": [
    "# Kalman Filter Implementation\n",
    "Unit implementation of the KF.\n",
    "### Input\n",
    "* From camera: $z^t_{camera} = (p1;p2) = ((p^t_{1x},p^t_{1y});(p^t_{2x},p^t_{2y}))$ expressed in $[mm]$. We choose p1 being the center of rotation of the robot and p2 another point drawn on the robot behind this point. \n",
    "* From wheel: $x^t_{wheel}=(d,alpha)$ expressed in $[mm]$ and $[deg]$."
   ]
  },
  {
   "cell_type": "markdown",
   "metadata": {},
   "source": [
    "### Predict\n",
    "$\\hat{x}_{k} = F_k x_{k-1} + B_{k} u_k$\n",
    "\n",
    "$P_{k} = F_k P_{k-1} F_k^T + Q_k$\n",
    "\n",
    "With:\n",
    "\n",
    "* $\\hat{x}_{k} = \\begin{pmatrix} \\hat{x}_{k} \\\\ \\hat{y}_{k} \\\\ \\hat{\\alpha}_{k} \\end{pmatrix}$;  $u_{k} = \\begin{pmatrix} d_{\\Delta t} \\\\ \\alpha_{\\Delta t} \\end{pmatrix}$\n",
    "* $F_k = \\begin{pmatrix} 1 \\ 0 \\ 0 \\\\ 0 \\ 1 \\ 0 \\\\ 0 \\ 0 \\ 1 \\end{pmatrix} $;  $B_k = \\begin{pmatrix} \\sin(\\alpha) \\ 0 \\\\ \\cos(\\alpha) \\ 0 \\\\ 0 \\ 1 \\end{pmatrix} $\n",
    "* $Q_k$ being the covariance of the measurement of wheels, TBD (to be determined)\n",
    "\n",
    "### Update\n",
    "\n",
    "* $y_k = z_k - H_k \\hat{x}_k$\n",
    "* $S_k = H_k P_k H_k^T + R_k$\n",
    "* $K_k = P_k H_k^T S_k^{-1}$\n",
    "* $\\hat{x}_k = \\hat{x}_k + K_k \\tilde{y}_k$\n",
    "* $P_k = (I - K_k H_k) P_k$\n",
    "\n",
    "With:\n",
    "* H_k\n",
    "* z_k camera measurement"
   ]
  },
  {
   "cell_type": "code",
   "execution_count": 31,
   "metadata": {},
   "outputs": [],
   "source": [
    "import numpy as np\n",
    "import math\n",
    "\n",
    "# STATE SPACE VARIABLE INITIALIZATION\n",
    "x = np.array([[0], [0], [45]])                                              # Initial state  (x = (x,y,alpha))\n",
    "F = np.array([[1, 0, 0], [0, 1, 0], [0, 0, 1]])                             # Define the state transition matrix (F)\n",
    "u = np.array([[0], [0]])                                                    # Initial control input  (u = (Deltad, Deltaalpha))\n",
    "B = np.array([[math.sin(math.radians(x[2])), 0], [math.cos(math.radians(x[2])), 0], [0, 1]])            # Define the control matrix (B)\n",
    "\n",
    "# KALMAN FILETER VARIABLE INITIALIZATION\n",
    "y = np.array([[0], [0], [0]])                                               # Initial output (y = (x,y,alpha))\n",
    "P = np.array([[1, 0, 0], [0, 1, 0], [0, 0, 1]])                             # Initial prediction (P)\n",
    "H = np.array([[1, 0, 0], [0, 1, 0], [0, 0, 1]])                             # Define the measurement matrix (H)\n",
    "\n",
    "# TO BE DEFINE\n",
    "Q = np.array([[1, 0, 0], [0, 1, 0], [0, 0, 1]])                             # Define the process noise covariance (Q)\n",
    "R = np.array([[1, 0, 0], [0, 1, 0], [0, 0, 1]])                             # Define the measurement noise covariance (R)\n",
    "\n",
    "\n",
    "def predict(x, u, P):\n",
    "    x_hat = F.dot(x) + B.dot(u)\n",
    "    P = F.dot(P).dot(F.T) + Q\n",
    "    return x_hat, P\n",
    "\n",
    "def update(x_hat_pred, P_pred, raw_camera_measurement):\n",
    "    z = get_camera_measurement(raw_camera_measurement)\n",
    "\n",
    "    y = z - H.dot(x_hat_pred)\n",
    "    S = H.dot(P_pred).dot(H.T) + R\n",
    "    K = P.dot(H.T).dot(np.linalg.inv(S))\n",
    "    x_hat_upd = x_hat_pred + K.dot(y)\n",
    "    P_upd = P_pred - K.dot(H).dot(P_pred)\n",
    "\n",
    "    return x_hat_upd, P_upd\n",
    "\n",
    "def get_camera_measurement(raw_camera_measurement):                         # raw_camera_measurement = [p1;p2] = [p1_x, p1_y, p2_x, p2_y]\n",
    "    p1_x = raw_camera_measurement[0][0]\n",
    "    p1_y = raw_camera_measurement[0][1]\n",
    "    p2_x = raw_camera_measurement[1][0]\n",
    "    p2_y = raw_camera_measurement[1][1]\n",
    "\n",
    "    d_Detlat = math.sqrt((p1_x - p2_x)**2 + (p1_y - p2_y)**2)\n",
    "    alpha_Deltat = math.atan2(p2_y - p1_y, p2_x - p1_x) - x[2]\n",
    "    x_Deltat = x[0] + d_Detlat * math.cos(math.radians(x[2] + alpha_Deltat))\n",
    "    y_Deltat = x[1] + d_Detlat * math.sin(math.radians(x[2] + alpha_Deltat))\n",
    "\n",
    "    z = np.array([[x_Deltat], [y_Deltat], [alpha_Deltat]])\n",
    "    return z"
   ]
  },
  {
   "cell_type": "markdown",
   "metadata": {},
   "source": [
    "# Testing code"
   ]
  },
  {
   "cell_type": "code",
   "execution_count": 32,
   "metadata": {},
   "outputs": [
    {
     "name": "stdout",
     "output_type": "stream",
     "text": [
      "Updated state estimate:\n",
      " [[ 1.]\n",
      " [ 1.]\n",
      " [45.]]\n",
      "Updated error covariance:\n",
      " [[1.33333333 0.         0.        ]\n",
      " [0.         1.33333333 0.        ]\n",
      " [0.         0.         1.33333333]]\n"
     ]
    }
   ],
   "source": [
    "# Input\n",
    "raw_camera_measurement = np.array([[0,0],[1,1]])                            # From Camera ((p1_x, p1_y); (p2_x, p2_y))\n",
    "raw_wheel_measurement = np.array([[math.sqrt(2)],[0]])                                 # From Wheel Encoder (d_Deltat; alpha_Deltat)\n",
    "\n",
    "x_hat_pred, P_pred = predict(x, raw_wheel_measurement, P)\n",
    "x_hat, P = update(x_hat_pred, P_pred, raw_camera_measurement)\n",
    "\n",
    "print(\"Updated state estimate:\\n\", x_hat_pred)\n",
    "print(\"Updated error covariance:\\n\", P)"
   ]
  },
  {
   "cell_type": "code",
   "execution_count": null,
   "metadata": {},
   "outputs": [],
   "source": []
  }
 ],
 "metadata": {
  "kernelspec": {
   "display_name": "Python 3",
   "language": "python",
   "name": "python3"
  },
  "language_info": {
   "codemirror_mode": {
    "name": "ipython",
    "version": 3
   },
   "file_extension": ".py",
   "mimetype": "text/x-python",
   "name": "python",
   "nbconvert_exporter": "python",
   "pygments_lexer": "ipython3",
   "version": "3.8.5"
  }
 },
 "nbformat": 4,
 "nbformat_minor": 2
}
